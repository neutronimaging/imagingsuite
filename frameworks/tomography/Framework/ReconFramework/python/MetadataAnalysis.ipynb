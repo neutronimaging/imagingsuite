{
 "cells": [
  {
   "cell_type": "code",
   "execution_count": null,
   "metadata": {},
   "outputs": [],
   "source": [
    "import numpy as np\n",
    "import matplotlib.pyplot as plt\n",
    "import astropy.io.fits as fits\n",
    "from tqdm import tqdm"
   ]
  },
  {
   "cell_type": "code",
   "execution_count": null,
   "metadata": {},
   "outputs": [],
   "source": [
    "fname = '/data/P20201428/02_rawdata/00_focus/start5500/focus_start3500_step10_00001.fits'"
   ]
  },
  {
   "cell_type": "code",
   "execution_count": null,
   "metadata": {},
   "outputs": [],
   "source": [
    "hdul = fits.open(fname)\n",
    "hdul[0].header"
   ]
  },
  {
   "cell_type": "code",
   "execution_count": null,
   "metadata": {},
   "outputs": [],
   "source": [
    "float(hdul[0].header['sample_position_2/sp2_rz'].split(' ')[0])"
   ]
  },
  {
   "cell_type": "code",
   "execution_count": null,
   "metadata": {},
   "outputs": [],
   "source": [
    "path = \"/Volumes/DATADISKIV/02_rawdata/01_Switchgrass/03_goldenNCT\"\n"
   ]
  },
  {
   "cell_type": "code",
   "execution_count": null,
   "metadata": {},
   "outputs": [],
   "source": [
    "def getAngle(fname) :\n",
    "    hdul = fits.open(fname)\n",
    "    hdul.verify('fix')\n",
    "    angle = float(hdul[0].header['sample_position_2/sp2_ry'].split(' ')[0])\n",
    "    hdul.close()\n",
    "    return angle"
   ]
  },
  {
   "cell_type": "code",
   "execution_count": null,
   "metadata": {},
   "outputs": [],
   "source": [
    "N = 2141\n",
    "fname = path+\"/switchgrassGNCT_{0:05d}.fits\"\n",
    "angles = np.zeros(N)\n",
    "for idx in tqdm(range(0,N)) :\n",
    "    angles[idx]=getAngle(fname.format(idx+1))"
   ]
  },
  {
   "cell_type": "code",
   "execution_count": null,
   "metadata": {},
   "outputs": [],
   "source": [
    "def goldenSequence2(x,arc=np.pi) :\n",
    "    phi=0.5*(1+np.sqrt(5))\n",
    "    return np.fmod(x*phi*np.pi,arc)\n",
    "\n",
    "def invGoldenSequence2(x,arc=np.pi) :\n",
    "    phi=0.5*(1+np.sqrt(5))\n",
    "    return np.fmod(x/phi*np.pi,arc)"
   ]
  },
  {
   "cell_type": "code",
   "execution_count": null,
   "metadata": {},
   "outputs": [],
   "source": [
    "x = np.linspace(0,len(angles),len(angles))"
   ]
  },
  {
   "cell_type": "code",
   "execution_count": null,
   "metadata": {},
   "outputs": [],
   "source": [
    "x"
   ]
  },
  {
   "cell_type": "code",
   "execution_count": null,
   "metadata": {},
   "outputs": [],
   "source": [
    "gangles = goldenSequence2(x)"
   ]
  },
  {
   "cell_type": "code",
   "execution_count": null,
   "metadata": {},
   "outputs": [],
   "source": [
    "plt.plot(np.floor(angles[:101])-np.floor(gangles*180/np.pi))"
   ]
  },
  {
   "cell_type": "code",
   "execution_count": null,
   "metadata": {},
   "outputs": [],
   "source": [
    "plt.plot(np.floor(angles)-np.floor(gangles*180/np.pi))"
   ]
  },
  {
   "cell_type": "code",
   "execution_count": null,
   "metadata": {},
   "outputs": [],
   "source": [
    "gangles[:10]*180/np.pi"
   ]
  },
  {
   "cell_type": "code",
   "execution_count": null,
   "metadata": {},
   "outputs": [],
   "source": [
    "angles[:10]"
   ]
  },
  {
   "cell_type": "code",
   "execution_count": null,
   "metadata": {},
   "outputs": [],
   "source": [
    "# store its reference in the variable file1  \n",
    "# and \"MyFile2.txt\" in D:\\Text in file2 \n",
    "file1 = open(r\"cornfiles.txt\",\"w+\") \n",
    "N = 2141\n",
    "fname = path+\"/switchgrassGNCT_{0:05d}.fits\"\n",
    "\n",
    "for idx in tqdm(range(0,N)) :\n",
    "    file1.write(\"{0}\\t{1}\\n\".format(angles[idx],fname.format(idx+1)))\n",
    "file1.close()"
   ]
  },
  {
   "cell_type": "code",
   "execution_count": null,
   "metadata": {},
   "outputs": [],
   "source": [
    "angles[10]"
   ]
  },
  {
   "cell_type": "code",
   "execution_count": null,
   "metadata": {},
   "outputs": [],
   "source": []
  }
 ],
 "metadata": {
  "kernelspec": {
   "display_name": "Python 3",
   "language": "python",
   "name": "python3"
  },
  "language_info": {
   "codemirror_mode": {
    "name": "ipython",
    "version": 3
   },
   "file_extension": ".py",
   "mimetype": "text/x-python",
   "name": "python",
   "nbconvert_exporter": "python",
   "pygments_lexer": "ipython3",
   "version": "3.7.6"
  }
 },
 "nbformat": 4,
 "nbformat_minor": 4
}
