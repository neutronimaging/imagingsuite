{
 "cells": [
  {
   "cell_type": "markdown",
   "metadata": {},
   "source": [
    "# Timing statistics"
   ]
  },
  {
   "cell_type": "code",
   "execution_count": null,
   "metadata": {},
   "outputs": [],
   "source": [
    "import numpy as np\n",
    "import matplotlib.pyplot as plt\n",
    "import pandas as pd\n",
    "\n",
    "plt.style.use('ggplot')"
   ]
  },
  {
   "cell_type": "code",
   "execution_count": null,
   "metadata": {},
   "outputs": [],
   "source": [
    "table = pd.read_json(\"recontiming128-1024_20210208.json\", orient=\"index\")\n",
    "table.head()"
   ]
  },
  {
   "cell_type": "code",
   "execution_count": null,
   "metadata": {},
   "outputs": [],
   "source": [
    "table['timing']['2021-02-08 13:50:06']"
   ]
  },
  {
   "cell_type": "code",
   "execution_count": null,
   "metadata": {},
   "outputs": [],
   "source": [
    "table['total']=np.nan\n",
    "table['Time/slice']=np.nan\n",
    "table['size']=np.nan\n",
    "table['Total GUPS']=np.nan\n",
    "table['GUPS/slice']=np.nan\n",
    "table['FullLogNorm']=np.nan\n",
    "table['MorphSpotClean']=np.nan\n",
    "table['WaveletRingClean']=np.nan\n",
    "table['Multi projection BP parallel']=np.nan\n",
    "\n",
    "\n",
    "for ind in table.index: \n",
    "    table['total'][ind] = table['timing'][ind]['total'] \n",
    "    datadict = table['data'][ind] \n",
    "    sum=1\n",
    "    for key in datadict :\n",
    "        sum = sum * datadict[key]\n",
    "        \n",
    "    timingdict = table['timing'][ind]\n",
    "    for key in timingdict :\n",
    "        table[key][ind]=timingdict[key]\n",
    "\n",
    "        \n",
    "\n",
    "    table['size'][ind]       = datadict['sizeu']  \n",
    "    table['Time/slice'][ind] = table['total'][ind]/datadict['sizeu'] \n",
    "    table['Total GUPS'][ind] = sum/table['total'][ind]/1e9\n",
    "    table['GUPS/slice'][ind] = table['Total GUPS'][ind]/datadict['sizez']**2\n",
    "        "
   ]
  },
  {
   "cell_type": "code",
   "execution_count": null,
   "metadata": {},
   "outputs": [],
   "source": [
    "table.head()"
   ]
  },
  {
   "cell_type": "code",
   "execution_count": null,
   "metadata": {},
   "outputs": [],
   "source": [
    "sizes = []\n",
    "avgTotalTime = []\n",
    "stdTotalTime = []\n",
    "avgSliceTime = []\n",
    "stdSliceTime = []\n",
    "avgGUPS = []\n",
    "avgNorm = []\n",
    "avgSpot = []\n",
    "avgRing = []\n",
    "avgBP   = []\n",
    "avgOther = []\n",
    "\n",
    "scale = 1000\n",
    "for s in table['size'].unique() :\n",
    "    sizes.append(int(s))\n",
    "    avgTotalTime.append(table[table['size']==s]['total'].mean()/scale)\n",
    "    stdTotalTime.append(table[table['size']==s]['total'].std()/scale)\n",
    "    avgSliceTime.append(table[table['size']==s]['Time/slice'].mean()/scale)\n",
    "    stdSliceTime.append(table[table['size']==s]['Time/slice'].std()/scale)\n",
    "    avgGUPS.append(table[table['size']==s]['Total GUPS'].mean())\n",
    "    avgNorm.append(table[table['size']==s]['FullLogNorm'].mean()/scale)\n",
    "    avgSpot.append(table[table['size']==s]['MorphSpotClean'].mean()/scale)\n",
    "    avgRing.append(table[table['size']==s]['WaveletRingClean'].mean()/scale)\n",
    "    avgBP.append(table[table['size']==s]['Multi projection BP parallel'].mean()/scale)\n",
    "    avgOther.append(avgTotalTime[-1]\n",
    "                    -avgNorm[-1]\n",
    "                    -avgSpot[-1]\n",
    "                    -avgRing[-1]\n",
    "                    -avgBP[-1])\n",
    "\n",
    "data = {'size': sizes, \n",
    "        'Total time': avgTotalTime, \n",
    "        'std Total time': stdTotalTime, \n",
    "        'Time/slice': avgSliceTime, \n",
    "        'std Time/slice': stdSliceTime,\n",
    "        'GUPS': avgGUPS,\n",
    "        'Normalization': avgNorm,\n",
    "        'Spot cleaning': avgSpot,\n",
    "        'Ring cleaning': avgRing,\n",
    "        'Back projection': avgBP,\n",
    "        'Others': avgOther}\n",
    "\n",
    "timings = pd.DataFrame.from_dict(data).sort_values('size')"
   ]
  },
  {
   "cell_type": "code",
   "execution_count": null,
   "metadata": {},
   "outputs": [],
   "source": [
    "timings"
   ]
  },
  {
   "cell_type": "code",
   "execution_count": null,
   "metadata": {},
   "outputs": [],
   "source": [
    "plt.figure(figsize=(5,4))\n",
    "plt.plot(timings['size'],timings['Total time'])\n",
    "plt.plot(timings['size'],timings['Total time'],'o')\n",
    "plt.xlabel('Data size')\n",
    "plt.ylabel('time (s)')\n",
    "plt.title('Total reconstruction time');\n",
    "plt.tight_layout()\n",
    "plt.savefig('totaltime.svg')\n",
    "plt.savefig('totaltime.png',dpi=300)"
   ]
  },
  {
   "cell_type": "code",
   "execution_count": null,
   "metadata": {},
   "outputs": [],
   "source": [
    "plt.figure(figsize=(5,4))\n",
    "plt.plot(timings['size'],timings['Time/slice'])\n",
    "plt.plot(timings['size'],timings['Time/slice'],'o')\n",
    "plt.xlabel('Data size')\n",
    "plt.ylabel('time (s)')\n",
    "plt.title('Reconstruction time per slice');\n",
    "plt.tight_layout()\n",
    "plt.savefig('timeperslice.svg')\n",
    "plt.savefig('timeperslice.png',dpi=300)"
   ]
  },
  {
   "cell_type": "code",
   "execution_count": null,
   "metadata": {},
   "outputs": [],
   "source": [
    "plt.figure(figsize=(5,4))\n",
    "plt.plot(timings['size'],timings['Time/slice'])\n",
    "plt.plot(timings['size'],timings['Time/slice'],'o')\n",
    "plt.xlabel('Data size')\n",
    "plt.ylabel('time (s)')\n",
    "plt.title('Reconstruction time per slice');\n",
    "plt.tight_layout()\n",
    "plt.savefig('timeperslice.svg')\n",
    "plt.savefig('timeperslice.png',dpi=300)"
   ]
  },
  {
   "cell_type": "code",
   "execution_count": null,
   "metadata": {},
   "outputs": [],
   "source": [
    "plt.figure(figsize=(5,4))\n",
    "plt.plot(timings['size'],timings['GUPS'])\n",
    "plt.plot(timings['size'],timings['GUPS'],'o')\n",
    "plt.xlabel('Data size')\n",
    "plt.ylabel('GUPS')\n",
    "plt.title('Update rate');\n",
    "plt.tight_layout()\n",
    "plt.savefig('GUPS.svg')\n",
    "plt.savefig('GUPS.png',dpi=300)"
   ]
  },
  {
   "cell_type": "code",
   "execution_count": null,
   "metadata": {},
   "outputs": [],
   "source": [
    "plt.figure(figsize=(5,5))\n",
    "timings.plot('size',['Normalization','Spot cleaning','Ring cleaning','Back projection','Others'],style='.-')\n",
    "plt.tight_layout()"
   ]
  },
  {
   "cell_type": "code",
   "execution_count": null,
   "metadata": {},
   "outputs": [],
   "source": [
    "plt.figure(figsize=(5,5))\n",
    "timings.plot.bar('size',['Normalization','Spot cleaning','Ring cleaning','Back projection','Others'],stacked=True)\n",
    "plt.xlabel('Data size')\n",
    "plt.ylabel('Time (s)')\n",
    "plt.tight_layout()\n",
    "plt.savefig('timepertask.svg')\n",
    "plt.savefig('timepertask.png',dpi=300)"
   ]
  },
  {
   "cell_type": "code",
   "execution_count": null,
   "metadata": {},
   "outputs": [],
   "source": []
  }
 ],
 "metadata": {
  "kernelspec": {
   "display_name": "Python 3",
   "language": "python",
   "name": "python3"
  },
  "language_info": {
   "codemirror_mode": {
    "name": "ipython",
    "version": 3
   },
   "file_extension": ".py",
   "mimetype": "text/x-python",
   "name": "python",
   "nbconvert_exporter": "python",
   "pygments_lexer": "ipython3",
   "version": "3.8.8"
  }
 },
 "nbformat": 4,
 "nbformat_minor": 4
}
