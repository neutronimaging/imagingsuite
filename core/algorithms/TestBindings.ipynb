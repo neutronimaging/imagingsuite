{
 "cells": [
  {
   "cell_type": "code",
   "execution_count": null,
   "metadata": {},
   "outputs": [],
   "source": [
    "import sys\n",
    "import numpy as np\n",
    "import matplotlib.pyplot as plt\n",
    "import imagalg"
   ]
  },
  {
   "cell_type": "code",
   "execution_count": null,
   "metadata": {},
   "outputs": [],
   "source": [
    "N=10\n",
    "a=np.linspace(0,N-1,N)\n",
    "b=np.linspace(0,N,N+1)\n",
    "c=np.linspace(0,N+1,N+2)\n",
    "x,y,z=np.meshgrid(a,b,c)\n",
    "#img=np.random.normal(size=[10,11,12])\n",
    "img=x+y*N+z*N*N\n",
    "#img=x+y+z\n",
    "#img=np.linspace(0,999,1000)\n",
    "#img=img.reshape([10,10,10])\n",
    "#img=img.astype('float32')\n",
    "img.dtype"
   ]
  },
  {
   "cell_type": "code",
   "execution_count": null,
   "metadata": {},
   "outputs": [],
   "source": [
    "avg=imagalg.AverageImage()"
   ]
  },
  {
   "cell_type": "code",
   "execution_count": null,
   "metadata": {},
   "outputs": [],
   "source": [
    "print(avg.windowSize())"
   ]
  },
  {
   "cell_type": "code",
   "execution_count": null,
   "metadata": {},
   "outputs": [],
   "source": [
    "plt.figure(figsize=[15,5])\n",
    "res=avg.process(img,imagalg.AverageImage.ImageAverage,[])\n",
    "ximg=img.mean(axis=0)\n",
    "if (N<10) :\n",
    "    print(ximg)\n",
    "    print(res)\n",
    "else :\n",
    "    plt.subplot(1,3,1)\n",
    "    plt.imshow(ximg)\n",
    "    plt.subplot(1,3,2)\n",
    "    plt.imshow(res)\n",
    "    plt.subplot(1,3,3)\n",
    "    plt.imshow((res-ximg)/ximg)\n",
    "    plt.colorbar()"
   ]
  },
  {
   "cell_type": "code",
   "execution_count": null,
   "metadata": {},
   "outputs": [],
   "source": [
    "plt.figure(figsize=[15,5])\n",
    "res=avg.process(img,imagalg.AverageImage.ImageMin,[])\n",
    "ximg=img.min(axis=0)\n",
    "if (N<10) :\n",
    "    print(ximg)\n",
    "    print(res)\n",
    "else :\n",
    "    plt.subplot(1,3,1)\n",
    "    plt.imshow(ximg)\n",
    "    plt.subplot(1,3,2)\n",
    "    plt.imshow(res)\n",
    "    plt.subplot(1,3,3)\n",
    "    plt.imshow(res-ximg)\n",
    "    plt.colorbar()"
   ]
  },
  {
   "cell_type": "code",
   "execution_count": null,
   "metadata": {},
   "outputs": [],
   "source": [
    "plt.figure(figsize=[15,5])\n",
    "res=avg.process(img,imagalg.AverageImage.ImageMax)\n",
    "ximg=img.max(axis=0)\n",
    "if (N<10) :\n",
    "    print(ximg)\n",
    "    print(res)\n",
    "else :\n",
    "    plt.subplot(1,3,1)\n",
    "    plt.imshow(ximg)\n",
    "    plt.subplot(1,3,2)\n",
    "    plt.imshow(res)\n",
    "    plt.subplot(1,3,3)\n",
    "    plt.imshow(res-ximg)\n",
    "    plt.colorbar()"
   ]
  },
  {
   "cell_type": "code",
   "execution_count": null,
   "metadata": {},
   "outputs": [],
   "source": [
    "plt.figure(figsize=[15,5])\n",
    "res=avg.process(method=imagalg.AverageImage.ImageWeightedAverage,img=img)\n",
    "ximg=img.mean(axis=0)\n",
    "if (N<10) :\n",
    "    print(ximg)\n",
    "    print(res)\n",
    "else :\n",
    "    plt.subplot(1,3,1)\n",
    "    plt.imshow(ximg)\n",
    "    plt.subplot(1,3,2)\n",
    "    plt.imshow(res)\n",
    "    plt.subplot(1,3,3)\n",
    "    plt.imshow((res-ximg)/ximg)\n",
    "    plt.colorbar()"
   ]
  },
  {
   "cell_type": "code",
   "execution_count": null,
   "metadata": {},
   "outputs": [],
   "source": [
    "try:\n",
    "    res=avg.process(img,imagalg.AverageImage.ImageAverage,[2])\n",
    "except imagalg.ImagingException as e :\n",
    "    print(e)"
   ]
  },
  {
   "cell_type": "code",
   "execution_count": null,
   "metadata": {},
   "outputs": [],
   "source": [
    "help(imagalg.AverageImage)"
   ]
  },
  {
   "cell_type": "code",
   "execution_count": null,
   "metadata": {},
   "outputs": [],
   "source": [
    "res.dtype"
   ]
  },
  {
   "cell_type": "markdown",
   "metadata": {},
   "source": [
    "# Polynomial correction"
   ]
  },
  {
   "cell_type": "code",
   "execution_count": null,
   "metadata": {},
   "outputs": [],
   "source": [
    "pc=imagalg.PolynomialCorrection()"
   ]
  },
  {
   "cell_type": "code",
   "execution_count": null,
   "metadata": {},
   "outputs": [],
   "source": [
    "pc.polynomialOrder()"
   ]
  },
  {
   "cell_type": "code",
   "execution_count": null,
   "metadata": {},
   "outputs": [],
   "source": [
    "pc.coefficients()"
   ]
  },
  {
   "cell_type": "code",
   "execution_count": null,
   "metadata": {},
   "outputs": [],
   "source": [
    "pc.setup([1,2,3,4])\n",
    "print(pc.polynomialOrder(),pc.coefficients())"
   ]
  },
  {
   "cell_type": "code",
   "execution_count": null,
   "metadata": {},
   "outputs": [],
   "source": [
    "pc.setup([1])"
   ]
  },
  {
   "cell_type": "code",
   "execution_count": null,
   "metadata": {},
   "outputs": [],
   "source": [
    "pc.setup([0,1,2,3,4,5,6,7,8,9,10,11])"
   ]
  },
  {
   "cell_type": "code",
   "execution_count": null,
   "metadata": {},
   "outputs": [],
   "source": [
    "c=pc.coefficients()"
   ]
  },
  {
   "cell_type": "code",
   "execution_count": null,
   "metadata": {},
   "outputs": [],
   "source": [
    "arr=np.array([1,2,3,4,5,6])\n",
    "print(pc.process(arr))\n",
    "for v in arr :\n",
    "    print(c[0]+c[1]*v+c[2]*v**2+c[3]*v**3)"
   ]
  },
  {
   "cell_type": "code",
   "execution_count": null,
   "metadata": {},
   "outputs": [],
   "source": [
    "a2=np.array([[1.0,2,3],[4,5,6]])\n",
    "print(a2)\n",
    "pc.processInplace(a2)\n",
    "\n",
    "print(a2)\n",
    "\n"
   ]
  },
  {
   "cell_type": "code",
   "execution_count": null,
   "metadata": {},
   "outputs": [],
   "source": [
    "a2.dtype"
   ]
  },
  {
   "cell_type": "code",
   "execution_count": null,
   "metadata": {},
   "outputs": [],
   "source": [
    "a2.dtype"
   ]
  },
  {
   "cell_type": "markdown",
   "metadata": {},
   "source": [
    "# Morphspotclean"
   ]
  },
  {
   "cell_type": "code",
   "execution_count": null,
   "metadata": {},
   "outputs": [],
   "source": [
    "help(imagalg)"
   ]
  },
  {
   "cell_type": "code",
   "execution_count": null,
   "metadata": {},
   "outputs": [],
   "source": []
  }
 ],
 "metadata": {
  "kernelspec": {
   "display_name": "Python 3",
   "language": "python",
   "name": "python3"
  },
  "language_info": {
   "codemirror_mode": {
    "name": "ipython",
    "version": 3
   },
   "file_extension": ".py",
   "mimetype": "text/x-python",
   "name": "python",
   "nbconvert_exporter": "python",
   "pygments_lexer": "ipython3",
   "version": "3.7.6"
  }
 },
 "nbformat": 4,
 "nbformat_minor": 4
}
